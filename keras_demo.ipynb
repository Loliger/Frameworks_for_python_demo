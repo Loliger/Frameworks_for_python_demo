{
 "cells": [
  {
   "cell_type": "code",
   "execution_count": 1,
   "id": "67f6d549-6713-4b2e-ac11-3752fbee448f",
   "metadata": {},
   "outputs": [],
   "source": [
    "import numpy as np\n",
    "import tensorflow as tf\n",
    "from tensorflow.keras.saving import get_custom_objects\n",
    "from tensorflow import keras\n",
    "from tensorflow.keras import layers"
   ]
  },
  {
   "cell_type": "markdown",
   "id": "b33a2772-4765-4267-9f36-a40bf9e28ee9",
   "metadata": {},
   "source": [
    "Es werden zunächst die Dimensionen für den Input und die Anzahl der Output Neuronen definiert.\n",
    "Danach wird der MNIST Datensatz geladen, welcher bereits in Keras enthalten ist (muss trotzdem gedownloaded werden, falls noch nicht geschehen)."
   ]
  },
  {
   "cell_type": "code",
   "execution_count": 2,
   "id": "90c24a0e-01d9-4184-ad6b-a0db0fc3f9d0",
   "metadata": {},
   "outputs": [],
   "source": [
    "num_classes = 10\n",
    "input_shape = (28, 28, 1)\n",
    "\n",
    "(x_train, y_train), (x_test, y_test) = keras.datasets.mnist.load_data()"
   ]
  },
  {
   "cell_type": "markdown",
   "id": "5b30a1b1-5c4a-40aa-a9de-cfbe9c4e21c8",
   "metadata": {},
   "source": [
    "Die Daten werden zunächst auf Werte zwischen 0 und 1 normalisiert.\n",
    "Danach wird die Form der Eingabedaten angepasst, sodass diese die im input_shape spezifizierte Form haben.\n",
    "Die Labels werden ebenfalls angepasst. Hier wird ein One-Hot-Encoding durchgeführt. Danach haben unsere y-Daten 10 Spalten, mit den 2 möglichen Werten {0,1}."
   ]
  },
  {
   "cell_type": "code",
   "execution_count": 3,
   "id": "fc1ebe1b-4a15-4201-9152-7594e517f581",
   "metadata": {},
   "outputs": [],
   "source": [
    "x_train = x_train.astype(\"float32\") /255\n",
    "x_test = x_test.astype(\"float32\") /255\n",
    "\n",
    "x_train = np.expand_dims(x_train, -1)\n",
    "x_test = np.expand_dims(x_test, -1)\n",
    "\n",
    "y_train = keras.utils.to_categorical(y_train, num_classes)\n",
    "y_test = keras.utils.to_categorical(y_test, num_classes)"
   ]
  },
  {
   "cell_type": "markdown",
   "id": "10f21846-e106-4ca1-bef9-a4e99bf3dc6b",
   "metadata": {},
   "source": [
    "Wir definieren ein Modell mit 2 Convolutional Layern, welche jeweils von einem Max-Pooling Layer gefolgt werden. Zum Schluss kommt noch ein Flatten Layer, welcher die entstandenen mehrdimensionalen Filter in einen eindimmensionalen Vektor umwandelt. Danach werden die Eindimensionalen Daten in den Fully-Connected Output Layer geführt."
   ]
  },
  {
   "cell_type": "code",
   "execution_count": 4,
   "id": "70c0a314-7a2c-4353-9543-ad238250f148",
   "metadata": {
    "scrolled": true
   },
   "outputs": [
    {
     "name": "stdout",
     "output_type": "stream",
     "text": [
      "Model: \"sequential\"\n",
      "_________________________________________________________________\n",
      " Layer (type)                Output Shape              Param #   \n",
      "=================================================================\n",
      " conv2d (Conv2D)             (None, 26, 26, 32)        320       \n",
      "                                                                 \n",
      " max_pooling2d (MaxPooling2D  (None, 13, 13, 32)       0         \n",
      " )                                                               \n",
      "                                                                 \n",
      " conv2d_1 (Conv2D)           (None, 11, 11, 64)        18496     \n",
      "                                                                 \n",
      " max_pooling2d_1 (MaxPooling  (None, 5, 5, 64)         0         \n",
      " 2D)                                                             \n",
      "                                                                 \n",
      " flatten (Flatten)           (None, 1600)              0         \n",
      "                                                                 \n",
      " dropout (Dropout)           (None, 1600)              0         \n",
      "                                                                 \n",
      " dense (Dense)               (None, 10)                16010     \n",
      "                                                                 \n",
      "=================================================================\n",
      "Total params: 34,826\n",
      "Trainable params: 34,826\n",
      "Non-trainable params: 0\n",
      "_________________________________________________________________\n"
     ]
    }
   ],
   "source": [
    "model = keras.Sequential(\n",
    "    [\n",
    "        keras.Input(shape=input_shape),\n",
    "        layers.Conv2D(32, kernel_size=(3, 3), activation=\"relu\"),\n",
    "        layers.MaxPooling2D(pool_size=(2, 2)),\n",
    "        layers.Conv2D(64, kernel_size=(3,3), activation=\"relu\"),\n",
    "        layers.MaxPooling2D(pool_size=(2, 2)),\n",
    "        layers.Flatten(),\n",
    "        layers.Dropout(0.5),\n",
    "        layers.Dense(num_classes, activation=\"softmax\"),\n",
    "    ]\n",
    ")\n",
    "model.summary()"
   ]
  },
  {
   "cell_type": "markdown",
   "id": "720eed51-a305-41a9-8b7e-ab7106984101",
   "metadata": {},
   "source": [
    "Wir definieren unsere Batchsize und die Anzahl der Epochs, welche wir durchführen wollen. Außerdem geben wir für unser Modell noch eine Kostenfunktion, den Optimierer, welcher verwendet werden soll und die Metriken, welche wir messen wollen an."
   ]
  },
  {
   "cell_type": "code",
   "execution_count": 5,
   "id": "a6b686cc-012f-404f-ab69-bb82e2faf8dd",
   "metadata": {},
   "outputs": [],
   "source": [
    "batch_size = 128\n",
    "epochs = 15\n",
    "model.compile(loss=\"categorical_crossentropy\", optimizer=\"adam\", metrics=[\"accuracy\"])"
   ]
  },
  {
   "cell_type": "markdown",
   "id": "fc1913ee-9b3c-4cc5-9d5b-49215756a255",
   "metadata": {},
   "source": [
    "Wir starten das Training unseres Modells auf den Trainingsdaten mit der definierten Batchsize und führen das Training so oft aus wie wir dies in der Variable Epochs definiert haben."
   ]
  },
  {
   "cell_type": "code",
   "execution_count": 6,
   "id": "dd54f39c-d056-4035-a498-776f006f7aa6",
   "metadata": {},
   "outputs": [
    {
     "name": "stdout",
     "output_type": "stream",
     "text": [
      "Epoch 1/15\n",
      "422/422 [==============================] - 16s 37ms/step - loss: 0.3718 - accuracy: 0.8865 - val_loss: 0.0839 - val_accuracy: 0.9770\n",
      "Epoch 2/15\n",
      "422/422 [==============================] - 15s 37ms/step - loss: 0.1158 - accuracy: 0.9640 - val_loss: 0.0581 - val_accuracy: 0.9847\n",
      "Epoch 3/15\n",
      "422/422 [==============================] - 16s 37ms/step - loss: 0.0872 - accuracy: 0.9733 - val_loss: 0.0488 - val_accuracy: 0.9877\n",
      "Epoch 4/15\n",
      "422/422 [==============================] - 16s 38ms/step - loss: 0.0739 - accuracy: 0.9769 - val_loss: 0.0458 - val_accuracy: 0.9870\n",
      "Epoch 5/15\n",
      "422/422 [==============================] - 16s 37ms/step - loss: 0.0665 - accuracy: 0.9793 - val_loss: 0.0408 - val_accuracy: 0.9893\n",
      "Epoch 6/15\n",
      "422/422 [==============================] - 16s 38ms/step - loss: 0.0588 - accuracy: 0.9816 - val_loss: 0.0381 - val_accuracy: 0.9897\n",
      "Epoch 7/15\n",
      "422/422 [==============================] - 16s 38ms/step - loss: 0.0534 - accuracy: 0.9826 - val_loss: 0.0352 - val_accuracy: 0.9902\n",
      "Epoch 8/15\n",
      "422/422 [==============================] - 16s 38ms/step - loss: 0.0518 - accuracy: 0.9836 - val_loss: 0.0324 - val_accuracy: 0.9915\n",
      "Epoch 9/15\n",
      "422/422 [==============================] - 16s 38ms/step - loss: 0.0461 - accuracy: 0.9858 - val_loss: 0.0340 - val_accuracy: 0.9905\n",
      "Epoch 10/15\n",
      "422/422 [==============================] - 16s 38ms/step - loss: 0.0445 - accuracy: 0.9858 - val_loss: 0.0308 - val_accuracy: 0.9910\n",
      "Epoch 11/15\n",
      "422/422 [==============================] - 16s 38ms/step - loss: 0.0408 - accuracy: 0.9874 - val_loss: 0.0313 - val_accuracy: 0.9915\n",
      "Epoch 12/15\n",
      "422/422 [==============================] - 16s 38ms/step - loss: 0.0390 - accuracy: 0.9879 - val_loss: 0.0319 - val_accuracy: 0.9907\n",
      "Epoch 13/15\n",
      "422/422 [==============================] - 16s 38ms/step - loss: 0.0374 - accuracy: 0.9879 - val_loss: 0.0284 - val_accuracy: 0.9933\n",
      "Epoch 14/15\n",
      "422/422 [==============================] - 16s 38ms/step - loss: 0.0345 - accuracy: 0.9884 - val_loss: 0.0278 - val_accuracy: 0.9927\n",
      "Epoch 15/15\n",
      "422/422 [==============================] - 16s 38ms/step - loss: 0.0355 - accuracy: 0.9887 - val_loss: 0.0273 - val_accuracy: 0.9927\n"
     ]
    },
    {
     "data": {
      "text/plain": [
       "<keras.callbacks.History at 0x28f40d308e0>"
      ]
     },
     "execution_count": 6,
     "metadata": {},
     "output_type": "execute_result"
    }
   ],
   "source": [
    "model.fit(x_train, y_train, batch_size=batch_size, epochs=epochs, validation_split=0.1)"
   ]
  },
  {
   "attachments": {},
   "cell_type": "markdown",
   "id": "b5c33e41-7572-4cfe-8cf8-52a8608d3c83",
   "metadata": {},
   "source": [
    "Wir können über die save() Funktion unsere Modelle ganz einfach in einem angegebenen Verzeichnis abspeichern."
   ]
  },
  {
   "cell_type": "code",
   "execution_count": 7,
   "id": "be8aae9c-fb5d-404b-a029-0b496d4f2bde",
   "metadata": {},
   "outputs": [
    {
     "name": "stderr",
     "output_type": "stream",
     "text": [
      "WARNING:absl:Found untraced functions such as _jit_compiled_convolution_op, _jit_compiled_convolution_op, _update_step_xla while saving (showing 3 of 3). These functions will not be directly callable after loading.\n"
     ]
    },
    {
     "name": "stdout",
     "output_type": "stream",
     "text": [
      "INFO:tensorflow:Assets written to: ./model\\assets\n"
     ]
    },
    {
     "name": "stderr",
     "output_type": "stream",
     "text": [
      "INFO:tensorflow:Assets written to: ./model\\assets\n"
     ]
    }
   ],
   "source": [
    "model.save(\"./model\")"
   ]
  },
  {
   "cell_type": "markdown",
   "id": "9ec6e3d1-d2f4-4b72-b653-c27d8759ed5d",
   "metadata": {},
   "source": [
    "Wir definieren eine Funktion, welche ein Polynom 2. Grades definiert. Danach fügen wir dieses in das get_custom_objects Dictionary von Keras hinzu."
   ]
  },
  {
   "cell_type": "code",
   "execution_count": 8,
   "id": "ec229cf7-8a37-4437-9574-4fa6b30f8be7",
   "metadata": {},
   "outputs": [],
   "source": [
    "def square_activation(x):\n",
    "    return x*x + x\n",
    "get_custom_objects().update({\"square\": layers.Activation(square_activation)})"
   ]
  },
  {
   "cell_type": "code",
   "execution_count": 9,
   "id": "ba3ea634-37a7-4e51-829b-addca9175d10",
   "metadata": {},
   "outputs": [],
   "source": [
    "get_custom_objects().update({\"square\": layers.Activation(square_activation)})"
   ]
  },
  {
   "cell_type": "markdown",
   "id": "c86f1f97-625a-4f3f-b09b-50afbe5bc2ec",
   "metadata": {},
   "source": [
    "Wir definieren ein zweites Modell mit der selbstdefinierten quadratischen Funktion als Aktivierungsfunktion. Das Modell besitzt den gleichen Aufbau wie das erste Modell."
   ]
  },
  {
   "cell_type": "code",
   "execution_count": 10,
   "id": "d3b99bd3-bc62-400d-b6c2-7c7a29b7ac7d",
   "metadata": {},
   "outputs": [],
   "source": [
    "model2 = keras.Sequential(\n",
    "    [\n",
    "        keras.Input(shape=input_shape),\n",
    "        layers.Conv2D(32, kernel_size=(3, 3), activation=\"square\"),\n",
    "        layers.MaxPooling2D(pool_size=(2, 2)),\n",
    "        layers.Conv2D(64, kernel_size=(3,3), activation=\"square\"),\n",
    "        layers.MaxPooling2D(pool_size=(2, 2)),\n",
    "        layers.Flatten(),\n",
    "        layers.Dropout(0.5),\n",
    "        layers.Dense(num_classes, activation=\"softmax\"),\n",
    "    ]\n",
    ")"
   ]
  },
  {
   "cell_type": "code",
   "execution_count": 11,
   "id": "c53e5898-b47d-4e63-a1b7-98bdeb60414a",
   "metadata": {},
   "outputs": [],
   "source": [
    "model2.compile(loss=\"categorical_crossentropy\", optimizer=\"adam\", metrics=[\"accuracy\"])"
   ]
  },
  {
   "cell_type": "code",
   "execution_count": 12,
   "id": "a88011c0-3c02-4153-afd7-c73b411ab065",
   "metadata": {},
   "outputs": [
    {
     "name": "stdout",
     "output_type": "stream",
     "text": [
      "Epoch 1/15\n",
      "422/422 [==============================] - 20s 47ms/step - loss: 0.3013 - accuracy: 0.9068 - val_loss: 0.0682 - val_accuracy: 0.9818\n",
      "Epoch 2/15\n",
      "422/422 [==============================] - 20s 46ms/step - loss: 0.0949 - accuracy: 0.9711 - val_loss: 0.0496 - val_accuracy: 0.9862\n",
      "Epoch 3/15\n",
      "422/422 [==============================] - 20s 47ms/step - loss: 0.0682 - accuracy: 0.9789 - val_loss: 0.0401 - val_accuracy: 0.9885\n",
      "Epoch 4/15\n",
      "422/422 [==============================] - 20s 47ms/step - loss: 0.0568 - accuracy: 0.9820 - val_loss: 0.0372 - val_accuracy: 0.9900\n",
      "Epoch 5/15\n",
      "422/422 [==============================] - 20s 47ms/step - loss: 0.0493 - accuracy: 0.9844 - val_loss: 0.0344 - val_accuracy: 0.9892\n",
      "Epoch 6/15\n",
      "422/422 [==============================] - 20s 47ms/step - loss: 0.0429 - accuracy: 0.9861 - val_loss: 0.0308 - val_accuracy: 0.9913\n",
      "Epoch 7/15\n",
      "422/422 [==============================] - 20s 48ms/step - loss: 0.0406 - accuracy: 0.9868 - val_loss: 0.0285 - val_accuracy: 0.9913\n",
      "Epoch 8/15\n",
      "422/422 [==============================] - 20s 47ms/step - loss: 0.0366 - accuracy: 0.9888 - val_loss: 0.0319 - val_accuracy: 0.9907\n",
      "Epoch 9/15\n",
      "422/422 [==============================] - 20s 47ms/step - loss: 0.0330 - accuracy: 0.9895 - val_loss: 0.0297 - val_accuracy: 0.9908\n",
      "Epoch 10/15\n",
      "422/422 [==============================] - 20s 47ms/step - loss: 0.0303 - accuracy: 0.9905 - val_loss: 0.0280 - val_accuracy: 0.9925\n",
      "Epoch 11/15\n",
      "422/422 [==============================] - 20s 47ms/step - loss: 0.0278 - accuracy: 0.9912 - val_loss: 0.0297 - val_accuracy: 0.9920\n",
      "Epoch 12/15\n",
      "422/422 [==============================] - 20s 47ms/step - loss: 0.0276 - accuracy: 0.9906 - val_loss: 0.0281 - val_accuracy: 0.9923\n",
      "Epoch 13/15\n",
      "422/422 [==============================] - 20s 47ms/step - loss: 0.0264 - accuracy: 0.9913 - val_loss: 0.0281 - val_accuracy: 0.9920\n",
      "Epoch 14/15\n",
      "422/422 [==============================] - 20s 46ms/step - loss: 0.0244 - accuracy: 0.9922 - val_loss: 0.0274 - val_accuracy: 0.9933\n",
      "Epoch 15/15\n",
      "422/422 [==============================] - 20s 47ms/step - loss: 0.0249 - accuracy: 0.9916 - val_loss: 0.0255 - val_accuracy: 0.9925\n"
     ]
    },
    {
     "data": {
      "text/plain": [
       "<keras.callbacks.History at 0x28f42054ee0>"
      ]
     },
     "execution_count": 12,
     "metadata": {},
     "output_type": "execute_result"
    }
   ],
   "source": [
    "model2.fit(x_train, y_train, batch_size=batch_size, epochs=epochs, validation_split=0.1)"
   ]
  },
  {
   "cell_type": "code",
   "execution_count": 13,
   "id": "5677dc7e-0cb2-4d03-aa49-d038b3e6c2e2",
   "metadata": {},
   "outputs": [
    {
     "name": "stderr",
     "output_type": "stream",
     "text": [
      "WARNING:absl:Found untraced functions such as _jit_compiled_convolution_op, _jit_compiled_convolution_op, _update_step_xla, activation_1_layer_call_fn, activation_1_layer_call_and_return_conditional_losses while saving (showing 5 of 5). These functions will not be directly callable after loading.\n"
     ]
    },
    {
     "name": "stdout",
     "output_type": "stream",
     "text": [
      "INFO:tensorflow:Assets written to: ./model_square\\assets\n"
     ]
    },
    {
     "name": "stderr",
     "output_type": "stream",
     "text": [
      "INFO:tensorflow:Assets written to: ./model_square\\assets\n"
     ]
    }
   ],
   "source": [
    "model2.save(\"./model_square\")"
   ]
  },
  {
   "cell_type": "markdown",
   "id": "2be9b3b0-7314-428d-b2c7-524af04e6ed6",
   "metadata": {},
   "source": [
    "Über die load_model() Funktion können wir abgespeicherte Modelle ganz einfach laden."
   ]
  },
  {
   "cell_type": "code",
   "execution_count": 14,
   "id": "83d01d80-1c14-4568-807a-38a174354113",
   "metadata": {},
   "outputs": [],
   "source": [
    "#model = keras.models.load_model(\"./model\")\n",
    "#model = keras.models.load_model(\"./model_square\")"
   ]
  },
  {
   "cell_type": "markdown",
   "id": "1e43fb11-950a-412d-ae6a-6efed29910a1",
   "metadata": {},
   "source": [
    "Evaluierung der beiden Modelle über die evaluate() Methode der Keras model Klasse"
   ]
  },
  {
   "cell_type": "code",
   "execution_count": 15,
   "id": "4e3624b5-df5c-49b6-8fe7-be7ee0faabf0",
   "metadata": {},
   "outputs": [],
   "source": [
    "score = model.evaluate(x_test, y_test, verbose=0)\n",
    "score2 = model2.evaluate(x_test, y_test, verbose=0)"
   ]
  },
  {
   "cell_type": "code",
   "execution_count": 16,
   "id": "cc6cb1ae-d2f4-4119-b5bc-cc3f44ed6041",
   "metadata": {},
   "outputs": [
    {
     "name": "stdout",
     "output_type": "stream",
     "text": [
      "Model 1:\n",
      "Test loss: 0.02409188449382782\n",
      "Test accuracy: 0.9922000169754028\n",
      "Model 2:\n",
      "Test loss: 0.023351045325398445\n",
      "Test accuracy: 0.9919999837875366\n"
     ]
    }
   ],
   "source": [
    "print(\"Model 1:\")\n",
    "print(\"Test loss:\", score[0])\n",
    "print(\"Test accuracy:\", score[1])\n",
    "print(\"Model 2:\")\n",
    "print(\"Test loss:\", score2[0])\n",
    "print(\"Test accuracy:\", score2[1])"
   ]
  }
 ],
 "metadata": {
  "kernelspec": {
   "display_name": "ffp",
   "language": "python",
   "name": "ffp"
  },
  "language_info": {
   "codemirror_mode": {
    "name": "ipython",
    "version": 3
   },
   "file_extension": ".py",
   "mimetype": "text/x-python",
   "name": "python",
   "nbconvert_exporter": "python",
   "pygments_lexer": "ipython3",
   "version": "3.9.16"
  }
 },
 "nbformat": 4,
 "nbformat_minor": 5
}
